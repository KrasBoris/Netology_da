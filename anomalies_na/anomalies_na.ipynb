{
 "cells": [
  {
   "cell_type": "code",
   "execution_count": 141,
   "metadata": {},
   "outputs": [],
   "source": [
    "import pandas as pd"
   ]
  },
  {
   "cell_type": "markdown",
   "metadata": {},
   "source": [
    "## Задание 1. Загрузка данных\n",
    "Изучить представленный набор данных на основе описания его столбцов в файле “horse_data.names” , загрузить его и оставить 8 столбцов для дальнейшего изучения: surgery?, Age, rectal temperature, pulse, respiratory rate, temperature of extremities, pain, outcome."
   ]
  },
  {
   "cell_type": "code",
   "execution_count": 142,
   "metadata": {},
   "outputs": [
    {
     "name": "stdout",
     "output_type": "stream",
     "text": [
      "1. TItle: Horse Colic database\n",
      "\n",
      "2. Source Information\n",
      "   -- Creators: Mary McLeish & Matt Cecile\n",
      "\t  \tDepartment of Computer Science\n",
      "\t\tUniversity of Guelph\n",
      "\t\tGuelph, Ontario, Canada N1G 2W1\n",
      "\t\tmdmcleish@water.waterloo.edu\n",
      "   -- Donor:    Will Taylor (taylor@pluto.arc.nasa.gov)\n",
      "   -- Date:     8/6/89\n",
      "\n",
      "3. Past Usage:\n",
      "   -- Unknown\n",
      "\n",
      "4. Relevant Information:\n",
      "\n",
      "   -- 2 data files\n",
      "      -- horse-colic.data: 300 training instances\n",
      "      -- horse-colic.test: 68 test instances\n",
      "   -- Possible class attributes: 24 (whether lesion is surgical)\n",
      "     -- others include: 23, 25, 26, and 27\n",
      "   -- Many Data types: (continuous, discrete, and nominal)\n",
      "\n",
      "5. Number of Instances: 368 (300 for training, 68 for testing)\n",
      "\n",
      "6. Number of attributes: 28\n",
      "\n",
      "7. Attribute Information:\n",
      "\n",
      "  1:  surgery?\n",
      "          1 = Yes, it had surgery\n",
      "          2 = It was treated without surgery\n",
      "\n",
      "  2:  Age\n",
      "          1 = Adult horse\n",
      "          2 = Young (< 6 months)\n",
      "\n",
      "  3:  Hospital Number\n",
      "          - numeric id\n",
      "          - the case number assigned to the horse\n",
      "            (may not be unique if the horse is treated > 1 time)\n",
      "\n",
      "  4:  rectal temperature\n",
      "          - linear\n",
      "          - in degrees celsius.\n",
      "          - An elevated temp may occur due to infection.\n",
      "          - temperature may be reduced when the animal is in late shock\n",
      "          - normal temp is 37.8\n",
      "          - this parameter will usually change as the problem progresses\n",
      "               eg. may start out normal, then become elevated because of\n",
      "                   the lesion, passing back through the normal range as the\n",
      "                   horse goes into shock\n",
      "  5:  pulse\n",
      "          - linear\n",
      "          - the heart rate in beats per minute\n",
      "          - is a reflection of the heart condition: 30 -40 is normal for adults\n",
      "          - rare to have a lower than normal rate although athletic horses\n",
      "            may have a rate of 20-25\n",
      "          - animals with painful lesions or suffering from circulatory shock\n",
      "            may have an elevated heart rate\n",
      "\n",
      "  6:  respiratory rate\n",
      "          - linear\n",
      "          - normal rate is 8 to 10\n",
      "          - usefulness is doubtful due to the great fluctuations\n",
      "\n",
      "  7:  temperature of extremities\n",
      "          - a subjective indication of peripheral circulation\n",
      "          - possible values:\n",
      "               1 = Normal\n",
      "               2 = Warm\n",
      "               3 = Cool\n",
      "               4 = Cold\n",
      "          - cool to cold extremities indicate possible shock\n",
      "          - hot extremities should correlate with an elevated rectal temp.\n",
      "\n",
      "  8:  peripheral pulse\n",
      "          - subjective\n",
      "          - possible values are:\n",
      "               1 = normal\n",
      "               2 = increased\n",
      "               3 = reduced\n",
      "               4 = absent\n",
      "          - normal or increased p.p. are indicative of adequate circulation\n",
      "            while reduced or absent indicate poor perfusion\n",
      "\n",
      "  9:  mucous membranes\n",
      "          - a subjective measurement of colour\n",
      "          - possible values are:\n",
      "               1 = normal pink\n",
      "               2 = bright pink\n",
      "               3 = pale pink\n",
      "               4 = pale cyanotic\n",
      "               5 = bright red / injected\n",
      "               6 = dark cyanotic\n",
      "          - 1 and 2 probably indicate a normal or slightly increased\n",
      "            circulation\n",
      "          - 3 may occur in early shock\n",
      "          - 4 and 6 are indicative of serious circulatory compromise\n",
      "          - 5 is more indicative of a septicemia\n",
      "\n",
      " 10: capillary refill time\n",
      "          - a clinical judgement. The longer the refill, the poorer the\n",
      "            circulation\n",
      "          - possible values\n",
      "               1 = < 3 seconds\n",
      "               2 = >= 3 seconds\n",
      "\n",
      " 11: pain - a subjective judgement of the horse's pain level\n",
      "          - possible values:\n",
      "               1 = alert, no pain\n",
      "               2 = depressed\n",
      "               3 = intermittent mild pain\n",
      "               4 = intermittent severe pain\n",
      "               5 = continuous severe pain\n",
      "          - should NOT be treated as a ordered or discrete variable!\n",
      "          - In general, the more painful, the more likely it is to require\n",
      "            surgery\n",
      "          - prior treatment of pain may mask the pain level to some extent\n",
      "\n",
      " 12: peristalsis\n",
      "          - an indication of the activity in the horse's gut. As the gut\n",
      "            becomes more distended or the horse becomes more toxic, the\n",
      "            activity decreases\n",
      "          - possible values:\n",
      "               1 = hypermotile\n",
      "               2 = normal\n",
      "               3 = hypomotile\n",
      "               4 = absent\n",
      "\n",
      " 13: abdominal distension\n",
      "          - An IMPORTANT parameter.\n",
      "          - possible values\n",
      "               1 = none\n",
      "               2 = slight\n",
      "               3 = moderate\n",
      "               4 = severe\n",
      "          - an animal with abdominal distension is likely to be painful and\n",
      "            have reduced gut motility.\n",
      "          - a horse with severe abdominal distension is likely to require\n",
      "            surgery just tio relieve the pressure\n",
      "\n",
      " 14: nasogastric tube\n",
      "          - this refers to any gas coming out of the tube\n",
      "          - possible values:\n",
      "               1 = none\n",
      "               2 = slight\n",
      "               3 = significant\n",
      "          - a large gas cap in the stomach is likely to give the horse\n",
      "            discomfort\n",
      "\n",
      " 15: nasogastric reflux\n",
      "          - possible values\n",
      "               1 = none\n",
      "               2 = > 1 liter\n",
      "               3 = < 1 liter\n",
      "          - the greater amount of reflux, the more likelihood that there is\n",
      "            some serious obstruction to the fluid passage from the rest of\n",
      "            the intestine\n",
      "\n",
      " 16: nasogastric reflux PH\n",
      "          - linear\n",
      "          - scale is from 0 to 14 with 7 being neutral\n",
      "          - normal values are in the 3 to 4 range\n",
      "\n",
      " 17: rectal examination - feces\n",
      "          - possible values\n",
      "               1 = normal\n",
      "               2 = increased\n",
      "               3 = decreased\n",
      "               4 = absent\n",
      "          - absent feces probably indicates an obstruction\n",
      "\n",
      " 18: abdomen\n",
      "          - possible values\n",
      "               1 = normal\n",
      "               2 = other\n",
      "               3 = firm feces in the large intestine\n",
      "               4 = distended small intestine\n",
      "               5 = distended large intestine\n",
      "          - 3 is probably an obstruction caused by a mechanical impaction\n",
      "            and is normally treated medically\n",
      "          - 4 and 5 indicate a surgical lesion\n",
      "\n",
      " 19: packed cell volume\n",
      "          - linear\n",
      "          - the # of red cells by volume in the blood\n",
      "          - normal range is 30 to 50. The level rises as the circulation\n",
      "            becomes compromised or as the animal becomes dehydrated.\n",
      "\n",
      " 20: total protein\n",
      "          - linear\n",
      "          - normal values lie in the 6-7.5 (gms/dL) range\n",
      "          - the higher the value the greater the dehydration\n",
      "\n",
      " 21: abdominocentesis appearance\n",
      "          - a needle is put in the horse's abdomen and fluid is obtained from\n",
      "            the abdominal cavity\n",
      "          - possible values:\n",
      "               1 = clear\n",
      "               2 = cloudy\n",
      "               3 = serosanguinous\n",
      "          - normal fluid is clear while cloudy or serosanguinous indicates\n",
      "            a compromised gut\n",
      "\n",
      " 22: abdomcentesis total protein\n",
      "          - linear\n",
      "          - the higher the level of protein the more likely it is to have a\n",
      "            compromised gut. Values are in gms/dL\n",
      "\n",
      " 23: outcome\n",
      "          - what eventually happened to the horse?\n",
      "          - possible values:\n",
      "               1 = lived\n",
      "               2 = died\n",
      "               3 = was euthanized\n",
      "\n",
      " 24: surgical lesion?\n",
      "          - retrospectively, was the problem (lesion) surgical?\n",
      "          - all cases are either operated upon or autopsied so that\n",
      "            this value and the lesion type are always known\n",
      "          - possible values:\n",
      "               1 = Yes\n",
      "               2 = No\n",
      "\n",
      " 25, 26, 27: type of lesion\n",
      "          - first number is site of lesion\n",
      "               1 = gastric\n",
      "               2 = sm intestine\n",
      "               3 = lg colon\n",
      "               4 = lg colon and cecum\n",
      "               5 = cecum\n",
      "               6 = transverse colon\n",
      "               7 = retum/descending colon\n",
      "               8 = uterus\n",
      "               9 = bladder\n",
      "               11 = all intestinal sites\n",
      "               00 = none\n",
      "          - second number is type\n",
      "               1 = simple\n",
      "               2 = strangulation\n",
      "               3 = inflammation\n",
      "               4 = other\n",
      "          - third number is subtype\n",
      "               1 = mechanical\n",
      "               2 = paralytic\n",
      "               0 = n/a\n",
      "          - fourth number is specific code\n",
      "               1 = obturation\n",
      "               2 = intrinsic\n",
      "               3 = extrinsic\n",
      "               4 = adynamic\n",
      "               5 = volvulus/torsion\n",
      "               6 = intussuption\n",
      "               7 = thromboembolic\n",
      "               8 = hernia\n",
      "               9 = lipoma/slenic incarceration\n",
      "               10 = displacement\n",
      "               0 = n/a\n",
      " 28: cp_data\n",
      "          - is pathology data present for this case?\n",
      "               1 = Yes\n",
      "               2 = No\n",
      "          - this variable is of no significance since pathology data\n",
      "            is not included or collected for these cases\n",
      "\n",
      "8. Missing values: 30% of the values are missing\n"
     ]
    }
   ],
   "source": [
    "with open('horse_data.names') as f:\n",
    "    print(f.read())"
   ]
  },
  {
   "cell_type": "code",
   "execution_count": 143,
   "metadata": {},
   "outputs": [
    {
     "data": {
      "text/html": [
       "<div>\n",
       "<style scoped>\n",
       "    .dataframe tbody tr th:only-of-type {\n",
       "        vertical-align: middle;\n",
       "    }\n",
       "\n",
       "    .dataframe tbody tr th {\n",
       "        vertical-align: top;\n",
       "    }\n",
       "\n",
       "    .dataframe thead th {\n",
       "        text-align: right;\n",
       "    }\n",
       "</style>\n",
       "<table border=\"1\" class=\"dataframe\">\n",
       "  <thead>\n",
       "    <tr style=\"text-align: right;\">\n",
       "      <th></th>\n",
       "      <th>surgery?</th>\n",
       "      <th>Age</th>\n",
       "      <th>rectal temperature</th>\n",
       "      <th>pulse</th>\n",
       "      <th>respiratory rate</th>\n",
       "      <th>temperature of extremities</th>\n",
       "      <th>pain</th>\n",
       "      <th>outcome</th>\n",
       "    </tr>\n",
       "  </thead>\n",
       "  <tbody>\n",
       "    <tr>\n",
       "      <th>0</th>\n",
       "      <td>2.0</td>\n",
       "      <td>1</td>\n",
       "      <td>38.5</td>\n",
       "      <td>66.0</td>\n",
       "      <td>28.0</td>\n",
       "      <td>3.0</td>\n",
       "      <td>5.0</td>\n",
       "      <td>2.0</td>\n",
       "    </tr>\n",
       "    <tr>\n",
       "      <th>1</th>\n",
       "      <td>1.0</td>\n",
       "      <td>1</td>\n",
       "      <td>39.2</td>\n",
       "      <td>88.0</td>\n",
       "      <td>20.0</td>\n",
       "      <td>NaN</td>\n",
       "      <td>3.0</td>\n",
       "      <td>3.0</td>\n",
       "    </tr>\n",
       "    <tr>\n",
       "      <th>2</th>\n",
       "      <td>2.0</td>\n",
       "      <td>1</td>\n",
       "      <td>38.3</td>\n",
       "      <td>40.0</td>\n",
       "      <td>24.0</td>\n",
       "      <td>1.0</td>\n",
       "      <td>3.0</td>\n",
       "      <td>1.0</td>\n",
       "    </tr>\n",
       "    <tr>\n",
       "      <th>3</th>\n",
       "      <td>1.0</td>\n",
       "      <td>9</td>\n",
       "      <td>39.1</td>\n",
       "      <td>164.0</td>\n",
       "      <td>84.0</td>\n",
       "      <td>4.0</td>\n",
       "      <td>2.0</td>\n",
       "      <td>2.0</td>\n",
       "    </tr>\n",
       "    <tr>\n",
       "      <th>4</th>\n",
       "      <td>2.0</td>\n",
       "      <td>1</td>\n",
       "      <td>37.3</td>\n",
       "      <td>104.0</td>\n",
       "      <td>35.0</td>\n",
       "      <td>NaN</td>\n",
       "      <td>NaN</td>\n",
       "      <td>2.0</td>\n",
       "    </tr>\n",
       "  </tbody>\n",
       "</table>\n",
       "</div>"
      ],
      "text/plain": [
       "   surgery?  Age  rectal temperature  pulse  respiratory rate  \\\n",
       "0       2.0    1                38.5   66.0              28.0   \n",
       "1       1.0    1                39.2   88.0              20.0   \n",
       "2       2.0    1                38.3   40.0              24.0   \n",
       "3       1.0    9                39.1  164.0              84.0   \n",
       "4       2.0    1                37.3  104.0              35.0   \n",
       "\n",
       "   temperature of extremities  pain  outcome  \n",
       "0                         3.0   5.0      2.0  \n",
       "1                         NaN   3.0      3.0  \n",
       "2                         1.0   3.0      1.0  \n",
       "3                         4.0   2.0      2.0  \n",
       "4                         NaN   NaN      2.0  "
      ]
     },
     "execution_count": 143,
     "metadata": {},
     "output_type": "execute_result"
    }
   ],
   "source": [
    "# считываем файл, оставляя только необходимые колонки\n",
    "# и заменяя знак ? на пустые значения\n",
    "df = pd.read_csv('horse_data.csv',\n",
    "       na_values='?', header=None,\n",
    "       usecols=[0, 1, 3, 4, 5, 6, 10, 22],\n",
    "       names=['surgery?','Age','rectal temperature',\n",
    "              'pulse','respiratory rate',\n",
    "              'temperature of extremities','pain','outcome'])\n",
    "df.head()"
   ]
  },
  {
   "cell_type": "code",
   "execution_count": 144,
   "metadata": {},
   "outputs": [
    {
     "data": {
      "text/html": [
       "<div>\n",
       "<style scoped>\n",
       "    .dataframe tbody tr th:only-of-type {\n",
       "        vertical-align: middle;\n",
       "    }\n",
       "\n",
       "    .dataframe tbody tr th {\n",
       "        vertical-align: top;\n",
       "    }\n",
       "\n",
       "    .dataframe thead th {\n",
       "        text-align: right;\n",
       "    }\n",
       "</style>\n",
       "<table border=\"1\" class=\"dataframe\">\n",
       "  <thead>\n",
       "    <tr style=\"text-align: right;\">\n",
       "      <th></th>\n",
       "      <th>surgery?</th>\n",
       "      <th>age</th>\n",
       "      <th>rectal_temperature</th>\n",
       "      <th>pulse</th>\n",
       "      <th>respiratory_rate</th>\n",
       "      <th>temperature_of_extremities</th>\n",
       "      <th>pain</th>\n",
       "      <th>outcome</th>\n",
       "    </tr>\n",
       "  </thead>\n",
       "  <tbody>\n",
       "    <tr>\n",
       "      <th>0</th>\n",
       "      <td>2.0</td>\n",
       "      <td>1</td>\n",
       "      <td>38.5</td>\n",
       "      <td>66.0</td>\n",
       "      <td>28.0</td>\n",
       "      <td>3.0</td>\n",
       "      <td>5.0</td>\n",
       "      <td>2.0</td>\n",
       "    </tr>\n",
       "    <tr>\n",
       "      <th>1</th>\n",
       "      <td>1.0</td>\n",
       "      <td>1</td>\n",
       "      <td>39.2</td>\n",
       "      <td>88.0</td>\n",
       "      <td>20.0</td>\n",
       "      <td>NaN</td>\n",
       "      <td>3.0</td>\n",
       "      <td>3.0</td>\n",
       "    </tr>\n",
       "    <tr>\n",
       "      <th>2</th>\n",
       "      <td>2.0</td>\n",
       "      <td>1</td>\n",
       "      <td>38.3</td>\n",
       "      <td>40.0</td>\n",
       "      <td>24.0</td>\n",
       "      <td>1.0</td>\n",
       "      <td>3.0</td>\n",
       "      <td>1.0</td>\n",
       "    </tr>\n",
       "    <tr>\n",
       "      <th>3</th>\n",
       "      <td>1.0</td>\n",
       "      <td>9</td>\n",
       "      <td>39.1</td>\n",
       "      <td>164.0</td>\n",
       "      <td>84.0</td>\n",
       "      <td>4.0</td>\n",
       "      <td>2.0</td>\n",
       "      <td>2.0</td>\n",
       "    </tr>\n",
       "    <tr>\n",
       "      <th>4</th>\n",
       "      <td>2.0</td>\n",
       "      <td>1</td>\n",
       "      <td>37.3</td>\n",
       "      <td>104.0</td>\n",
       "      <td>35.0</td>\n",
       "      <td>NaN</td>\n",
       "      <td>NaN</td>\n",
       "      <td>2.0</td>\n",
       "    </tr>\n",
       "  </tbody>\n",
       "</table>\n",
       "</div>"
      ],
      "text/plain": [
       "   surgery?  age  rectal_temperature  pulse  respiratory_rate  \\\n",
       "0       2.0    1                38.5   66.0              28.0   \n",
       "1       1.0    1                39.2   88.0              20.0   \n",
       "2       2.0    1                38.3   40.0              24.0   \n",
       "3       1.0    9                39.1  164.0              84.0   \n",
       "4       2.0    1                37.3  104.0              35.0   \n",
       "\n",
       "   temperature_of_extremities  pain  outcome  \n",
       "0                         3.0   5.0      2.0  \n",
       "1                         NaN   3.0      3.0  \n",
       "2                         1.0   3.0      1.0  \n",
       "3                         4.0   2.0      2.0  \n",
       "4                         NaN   NaN      2.0  "
      ]
     },
     "execution_count": 144,
     "metadata": {},
     "output_type": "execute_result"
    }
   ],
   "source": [
    "# имена колонок приведем к стандартному виду\n",
    "df.columns = df.columns.str.lower().str.replace(' ', '_')\n",
    "df.head()"
   ]
  },
  {
   "cell_type": "code",
   "execution_count": null,
   "metadata": {},
   "outputs": [],
   "source": []
  },
  {
   "cell_type": "markdown",
   "metadata": {},
   "source": [
    "## Задание 2. Первичное изучение данных\n",
    "Проанализировать значения по столбцам, рассчитать базовые статистики, найти выбросы.\n"
   ]
  },
  {
   "cell_type": "code",
   "execution_count": 145,
   "metadata": {},
   "outputs": [
    {
     "data": {
      "text/html": [
       "<div>\n",
       "<style scoped>\n",
       "    .dataframe tbody tr th:only-of-type {\n",
       "        vertical-align: middle;\n",
       "    }\n",
       "\n",
       "    .dataframe tbody tr th {\n",
       "        vertical-align: top;\n",
       "    }\n",
       "\n",
       "    .dataframe thead th {\n",
       "        text-align: right;\n",
       "    }\n",
       "</style>\n",
       "<table border=\"1\" class=\"dataframe\">\n",
       "  <thead>\n",
       "    <tr style=\"text-align: right;\">\n",
       "      <th></th>\n",
       "      <th>surgery?</th>\n",
       "      <th>age</th>\n",
       "      <th>temperature_of_extremities</th>\n",
       "      <th>pain</th>\n",
       "      <th>outcome</th>\n",
       "    </tr>\n",
       "  </thead>\n",
       "  <tbody>\n",
       "    <tr>\n",
       "      <th>count</th>\n",
       "      <td>299.0</td>\n",
       "      <td>300</td>\n",
       "      <td>244.0</td>\n",
       "      <td>245.0</td>\n",
       "      <td>299.0</td>\n",
       "    </tr>\n",
       "    <tr>\n",
       "      <th>unique</th>\n",
       "      <td>2.0</td>\n",
       "      <td>2</td>\n",
       "      <td>4.0</td>\n",
       "      <td>5.0</td>\n",
       "      <td>3.0</td>\n",
       "    </tr>\n",
       "    <tr>\n",
       "      <th>top</th>\n",
       "      <td>1.0</td>\n",
       "      <td>1</td>\n",
       "      <td>3.0</td>\n",
       "      <td>3.0</td>\n",
       "      <td>1.0</td>\n",
       "    </tr>\n",
       "    <tr>\n",
       "      <th>freq</th>\n",
       "      <td>180.0</td>\n",
       "      <td>276</td>\n",
       "      <td>109.0</td>\n",
       "      <td>67.0</td>\n",
       "      <td>178.0</td>\n",
       "    </tr>\n",
       "  </tbody>\n",
       "</table>\n",
       "</div>"
      ],
      "text/plain": [
       "        surgery?  age  temperature_of_extremities   pain  outcome\n",
       "count      299.0  300                       244.0  245.0    299.0\n",
       "unique       2.0    2                         4.0    5.0      3.0\n",
       "top          1.0    1                         3.0    3.0      1.0\n",
       "freq       180.0  276                       109.0   67.0    178.0"
      ]
     },
     "execution_count": 145,
     "metadata": {},
     "output_type": "execute_result"
    }
   ],
   "source": [
    "# некоторые поля содержат по несколько дискретных значений\n",
    "# поэтому их удобнее рассматривать как категориальные\n",
    "df['surgery?'] = pd.Categorical(df['surgery?'])\n",
    "df['age'] = pd.Categorical(df['age'])\n",
    "df['temperature_of_extremities'] = pd.Categorical(df['temperature_of_extremities'])\n",
    "df['pain'] = pd.Categorical(df['pain'])\n",
    "df['outcome'] = pd.Categorical(df['outcome'])\n",
    "df.describe(include='category')"
   ]
  },
  {
   "cell_type": "markdown",
   "metadata": {},
   "source": [
    "Больше половины животных были прооперированы, 92% - взрослые лошади, чаще всего встречаются прохладные конечности, 60% животных в итоге выжили"
   ]
  },
  {
   "cell_type": "code",
   "execution_count": 146,
   "metadata": {},
   "outputs": [
    {
     "data": {
      "text/html": [
       "<div>\n",
       "<style scoped>\n",
       "    .dataframe tbody tr th:only-of-type {\n",
       "        vertical-align: middle;\n",
       "    }\n",
       "\n",
       "    .dataframe tbody tr th {\n",
       "        vertical-align: top;\n",
       "    }\n",
       "\n",
       "    .dataframe thead th {\n",
       "        text-align: right;\n",
       "    }\n",
       "</style>\n",
       "<table border=\"1\" class=\"dataframe\">\n",
       "  <thead>\n",
       "    <tr style=\"text-align: right;\">\n",
       "      <th></th>\n",
       "      <th>rectal_temperature</th>\n",
       "      <th>pulse</th>\n",
       "      <th>respiratory_rate</th>\n",
       "    </tr>\n",
       "  </thead>\n",
       "  <tbody>\n",
       "    <tr>\n",
       "      <th>count</th>\n",
       "      <td>240.000000</td>\n",
       "      <td>276.000000</td>\n",
       "      <td>242.000000</td>\n",
       "    </tr>\n",
       "    <tr>\n",
       "      <th>mean</th>\n",
       "      <td>38.167917</td>\n",
       "      <td>71.913043</td>\n",
       "      <td>30.417355</td>\n",
       "    </tr>\n",
       "    <tr>\n",
       "      <th>std</th>\n",
       "      <td>0.732289</td>\n",
       "      <td>28.630557</td>\n",
       "      <td>17.642231</td>\n",
       "    </tr>\n",
       "    <tr>\n",
       "      <th>min</th>\n",
       "      <td>35.400000</td>\n",
       "      <td>30.000000</td>\n",
       "      <td>8.000000</td>\n",
       "    </tr>\n",
       "    <tr>\n",
       "      <th>25%</th>\n",
       "      <td>37.800000</td>\n",
       "      <td>48.000000</td>\n",
       "      <td>18.500000</td>\n",
       "    </tr>\n",
       "    <tr>\n",
       "      <th>50%</th>\n",
       "      <td>38.200000</td>\n",
       "      <td>64.000000</td>\n",
       "      <td>24.500000</td>\n",
       "    </tr>\n",
       "    <tr>\n",
       "      <th>75%</th>\n",
       "      <td>38.500000</td>\n",
       "      <td>88.000000</td>\n",
       "      <td>36.000000</td>\n",
       "    </tr>\n",
       "    <tr>\n",
       "      <th>max</th>\n",
       "      <td>40.800000</td>\n",
       "      <td>184.000000</td>\n",
       "      <td>96.000000</td>\n",
       "    </tr>\n",
       "  </tbody>\n",
       "</table>\n",
       "</div>"
      ],
      "text/plain": [
       "       rectal_temperature       pulse  respiratory_rate\n",
       "count          240.000000  276.000000        242.000000\n",
       "mean            38.167917   71.913043         30.417355\n",
       "std              0.732289   28.630557         17.642231\n",
       "min             35.400000   30.000000          8.000000\n",
       "25%             37.800000   48.000000         18.500000\n",
       "50%             38.200000   64.000000         24.500000\n",
       "75%             38.500000   88.000000         36.000000\n",
       "max             40.800000  184.000000         96.000000"
      ]
     },
     "execution_count": 146,
     "metadata": {},
     "output_type": "execute_result"
    }
   ],
   "source": [
    "# и посмотрим описание остальных полей\n",
    "df.describe()"
   ]
  },
  {
   "cell_type": "markdown",
   "metadata": {},
   "source": [
    "75% имеют повышенную температуру, пульс и частота дыхания ниже нормы не встречаются"
   ]
  },
  {
   "cell_type": "code",
   "execution_count": 147,
   "metadata": {},
   "outputs": [],
   "source": [
    "def search_bound(series):\n",
    "    # поиск границ значений, за пределами которых находятся выбросы\n",
    "    q_1 = series.quantile(0.25)\n",
    "    q_3 = series.quantile(0.75)\n",
    "    iqr = q_3 - q_1\n",
    "    low_bound = (q_1 - (1.5 * iqr)).round(2)\n",
    "    high_bound = (q_3 + (1.5 * iqr)).round(2)\n",
    "    print(f'Нижняя граница - {low_bound},\\nверхняя граница - {high_bound}')"
   ]
  },
  {
   "cell_type": "code",
   "execution_count": 148,
   "metadata": {},
   "outputs": [
    {
     "name": "stdout",
     "output_type": "stream",
     "text": [
      "Нижняя граница - 36.75,\n",
      "верхняя граница - 39.55\n"
     ]
    }
   ],
   "source": [
    "# выбросы для температуры\n",
    "search_bound(df['rectal_temperature'])"
   ]
  },
  {
   "cell_type": "code",
   "execution_count": 149,
   "metadata": {},
   "outputs": [
    {
     "name": "stdout",
     "output_type": "stream",
     "text": [
      "Нижняя граница - -12.0,\n",
      "верхняя граница - 148.0\n"
     ]
    }
   ],
   "source": [
    "# выбросы для пульса\n",
    "search_bound(df['pulse'])"
   ]
  },
  {
   "cell_type": "markdown",
   "metadata": {},
   "source": [
    "Здесь снизу выбросов нет: минимальное значение 30 - это в пределах нормы"
   ]
  },
  {
   "cell_type": "code",
   "execution_count": 150,
   "metadata": {},
   "outputs": [
    {
     "name": "stdout",
     "output_type": "stream",
     "text": [
      "Нижняя граница - -7.75,\n",
      "верхняя граница - 62.25\n"
     ]
    }
   ],
   "source": [
    "# выбросы для пульса\n",
    "search_bound(df['respiratory_rate'])"
   ]
  },
  {
   "cell_type": "markdown",
   "metadata": {},
   "source": [
    "Для частоты дыхания выбросов снизу тоже нет"
   ]
  },
  {
   "cell_type": "code",
   "execution_count": null,
   "metadata": {},
   "outputs": [],
   "source": []
  },
  {
   "cell_type": "markdown",
   "metadata": {},
   "source": [
    "## Задание 3. Работа с пропусками\n",
    "Рассчитать количество пропусков для всех выбранных столбцов. Принять и обосновать решение о методе заполнения пропусков по каждому столбцу на основе рассчитанных статистик и возможной взаимосвязи значений в них. Сформировать датафрейм, в котором пропуски будут отсутствовать."
   ]
  },
  {
   "cell_type": "code",
   "execution_count": 151,
   "metadata": {},
   "outputs": [
    {
     "name": "stdout",
     "output_type": "stream",
     "text": [
      "<class 'pandas.core.frame.DataFrame'>\n",
      "RangeIndex: 292 entries, 0 to 291\n",
      "Data columns (total 8 columns):\n",
      " #   Column                      Non-Null Count  Dtype   \n",
      "---  ------                      --------------  -----   \n",
      " 0   surgery?                    291 non-null    category\n",
      " 1   age                         292 non-null    category\n",
      " 2   rectal_temperature          240 non-null    float64 \n",
      " 3   pulse                       276 non-null    float64 \n",
      " 4   respiratory_rate            242 non-null    float64 \n",
      " 5   temperature_of_extremities  244 non-null    category\n",
      " 6   pain                        245 non-null    category\n",
      " 7   outcome                     291 non-null    category\n",
      "dtypes: category(5), float64(3)\n",
      "memory usage: 9.2 KB\n"
     ]
    }
   ],
   "source": [
    "# оставим сторки, где заполнено не менее 4 значений\n",
    "df = df.dropna(thresh=4).reset_index(drop=True)\n",
    "df.info()"
   ]
  },
  {
   "cell_type": "code",
   "execution_count": 152,
   "metadata": {},
   "outputs": [
    {
     "data": {
      "text/plain": [
       "surgery?                       0.34\n",
       "age                            0.00\n",
       "rectal_temperature            17.81\n",
       "pulse                          5.48\n",
       "respiratory_rate              17.12\n",
       "temperature_of_extremities    16.44\n",
       "pain                          16.10\n",
       "outcome                        0.34\n",
       "dtype: float64"
      ]
     },
     "execution_count": 152,
     "metadata": {},
     "output_type": "execute_result"
    }
   ],
   "source": [
    "# посчитаем количество пропусков\n",
    "(df.isna().mean() * 100).round(2)"
   ]
  },
  {
   "cell_type": "markdown",
   "metadata": {},
   "source": [
    "### *surgery?* и *outcome*"
   ]
  },
  {
   "cell_type": "markdown",
   "metadata": {},
   "source": [
    "В поле *age* пропусков нет, а в *surgery?* и *outcome* по одному пропуску"
   ]
  },
  {
   "cell_type": "code",
   "execution_count": 153,
   "metadata": {},
   "outputs": [
    {
     "data": {
      "text/html": [
       "<div>\n",
       "<style scoped>\n",
       "    .dataframe tbody tr th:only-of-type {\n",
       "        vertical-align: middle;\n",
       "    }\n",
       "\n",
       "    .dataframe tbody tr th {\n",
       "        vertical-align: top;\n",
       "    }\n",
       "\n",
       "    .dataframe thead th {\n",
       "        text-align: right;\n",
       "    }\n",
       "</style>\n",
       "<table border=\"1\" class=\"dataframe\">\n",
       "  <thead>\n",
       "    <tr style=\"text-align: right;\">\n",
       "      <th></th>\n",
       "      <th>surgery?</th>\n",
       "      <th>age</th>\n",
       "      <th>rectal_temperature</th>\n",
       "      <th>pulse</th>\n",
       "      <th>respiratory_rate</th>\n",
       "      <th>temperature_of_extremities</th>\n",
       "      <th>pain</th>\n",
       "      <th>outcome</th>\n",
       "    </tr>\n",
       "  </thead>\n",
       "  <tbody>\n",
       "    <tr>\n",
       "      <th>129</th>\n",
       "      <td>NaN</td>\n",
       "      <td>1</td>\n",
       "      <td>38.0</td>\n",
       "      <td>48.0</td>\n",
       "      <td>20.0</td>\n",
       "      <td>3.0</td>\n",
       "      <td>4.0</td>\n",
       "      <td>NaN</td>\n",
       "    </tr>\n",
       "  </tbody>\n",
       "</table>\n",
       "</div>"
      ],
      "text/plain": [
       "    surgery? age  rectal_temperature  pulse  respiratory_rate  \\\n",
       "129      NaN   1                38.0   48.0              20.0   \n",
       "\n",
       "    temperature_of_extremities pain outcome  \n",
       "129                        3.0  4.0     NaN  "
      ]
     },
     "execution_count": 153,
     "metadata": {},
     "output_type": "execute_result"
    }
   ],
   "source": [
    "# посмотрим на пропуска в surgery? и outcome\n",
    "df[(df['surgery?'].isna()) | (df['outcome'].isna())]"
   ]
  },
  {
   "cell_type": "markdown",
   "metadata": {},
   "source": [
    "Эти пропуска можно заполнить модой для соответствующего поля, это не должно повлиять на результаты анализа"
   ]
  },
  {
   "cell_type": "code",
   "execution_count": 154,
   "metadata": {},
   "outputs": [],
   "source": [
    "df = df.fillna({\n",
    "    'surgery?': df['surgery?'].mode()[0],\n",
    "    'outcome': df['outcome'].mode()[0]\n",
    "})"
   ]
  },
  {
   "cell_type": "markdown",
   "metadata": {},
   "source": [
    "### *rectal_temperature*"
   ]
  },
  {
   "cell_type": "code",
   "execution_count": 155,
   "metadata": {},
   "outputs": [
    {
     "data": {
      "text/plain": [
       "<Axes: >"
      ]
     },
     "execution_count": 155,
     "metadata": {},
     "output_type": "execute_result"
    },
    {
     "data": {
      "image/png": "[encoded data removed]",
      "text/plain": [
       "<Figure size 640x480 with 1 Axes>"
      ]
     },
     "metadata": {},
     "output_type": "display_data"
    }
   ],
   "source": [
    "# посмотрим на график распределения температуры\n",
    "df.rectal_temperature.hist(bins=30)"
   ]
  },
  {
   "cell_type": "markdown",
   "metadata": {},
   "source": [
    "Распределение близко к нормальному, поэтому пропуска для температуры можно заполнить средним"
   ]
  },
  {
   "cell_type": "code",
   "execution_count": 156,
   "metadata": {},
   "outputs": [],
   "source": [
    "df.rectal_temperature = df.rectal_temperature.fillna(df.rectal_temperature.mean().round(1))"
   ]
  },
  {
   "cell_type": "markdown",
   "metadata": {},
   "source": [
    "### *pulse*"
   ]
  },
  {
   "cell_type": "code",
   "execution_count": 157,
   "metadata": {},
   "outputs": [
    {
     "data": {
      "text/plain": [
       "age\n",
       "1     67.456693\n",
       "9    123.363636\n",
       "Name: pulse, dtype: float64"
      ]
     },
     "execution_count": 157,
     "metadata": {},
     "output_type": "execute_result"
    }
   ],
   "source": [
    "# пульс сильно зависит от возраста\n",
    "df.groupby(df['age']).pulse.mean()"
   ]
  },
  {
   "cell_type": "markdown",
   "metadata": {},
   "source": [
    "Пропуска для пульса можно заполнить средними для соответствующего возраста"
   ]
  },
  {
   "cell_type": "code",
   "execution_count": 158,
   "metadata": {},
   "outputs": [],
   "source": [
    "df.pulse = df.pulse.fillna(df.groupby('age').pulse.transform('mean'))"
   ]
  },
  {
   "cell_type": "markdown",
   "metadata": {},
   "source": [
    "### *respiratory_rate*"
   ]
  },
  {
   "cell_type": "code",
   "execution_count": 159,
   "metadata": {},
   "outputs": [
    {
     "data": {
      "text/plain": [
       "pulse\n",
       "30.0     15.000000\n",
       "40.0     20.837209\n",
       "50.0     25.404255\n",
       "60.0     33.771429\n",
       "70.0     25.965517\n",
       "80.0     32.700000\n",
       "90.0     32.777778\n",
       "100.0    36.647059\n",
       "110.0    31.444444\n",
       "120.0    50.000000\n",
       "130.0    40.000000\n",
       "140.0    46.666667\n",
       "150.0    72.666667\n",
       "160.0    52.000000\n",
       "180.0    84.000000\n",
       "Name: respiratory_rate, dtype: float64"
      ]
     },
     "execution_count": 159,
     "metadata": {},
     "output_type": "execute_result"
    }
   ],
   "source": [
    "# дыхание коррелирует с пульсом\n",
    "df.groupby(df['pulse'].round(-1)).respiratory_rate.mean()"
   ]
  },
  {
   "cell_type": "markdown",
   "metadata": {},
   "source": [
    "Дыхание можно заполнить средними для соответствующего диапазона пульса"
   ]
  },
  {
   "cell_type": "code",
   "execution_count": 160,
   "metadata": {},
   "outputs": [],
   "source": [
    "df.respiratory_rate = df.respiratory_rate.fillna(df.groupby(df['pulse'].round(-1)).respiratory_rate.transform('mean'))"
   ]
  },
  {
   "cell_type": "markdown",
   "metadata": {},
   "source": [
    "### *temperature_of_extremities*"
   ]
  },
  {
   "cell_type": "code",
   "execution_count": 161,
   "metadata": {},
   "outputs": [
    {
     "data": {
      "text/plain": [
       "temperature_of_extremities\n",
       "1.0    38.132051\n",
       "2.0    38.203333\n",
       "3.0    38.190826\n",
       "4.0    38.388889\n",
       "Name: rectal_temperature, dtype: float64"
      ]
     },
     "execution_count": 161,
     "metadata": {},
     "output_type": "execute_result"
    }
   ],
   "source": [
    "# температура конечностей должна зависеть от общей температуры\n",
    "df.groupby('temperature_of_extremities').rectal_temperature.mean()"
   ]
  },
  {
   "cell_type": "markdown",
   "metadata": {},
   "source": [
    "Такой корреляции не видно, поэтому gропуски в *temperature_of_extremities* заполним модой"
   ]
  },
  {
   "cell_type": "code",
   "execution_count": 162,
   "metadata": {},
   "outputs": [],
   "source": [
    "df.temperature_of_extremities = df.temperature_of_extremities.fillna(df.temperature_of_extremities.mode()[0])"
   ]
  },
  {
   "cell_type": "markdown",
   "metadata": {},
   "source": [
    "### *pain*"
   ]
  },
  {
   "cell_type": "code",
   "execution_count": 163,
   "metadata": {},
   "outputs": [
    {
     "data": {
      "text/plain": [
       "outcome\n",
       "1.0    3.0\n",
       "2.0    5.0\n",
       "3.0    2.0\n",
       "Name: pain, dtype: float64"
      ]
     },
     "execution_count": 163,
     "metadata": {},
     "output_type": "execute_result"
    }
   ],
   "source": [
    "# боль коррелирует с *outcome*\n",
    "df.groupby(df['outcome']).pain.apply(lambda x: x.mode()[0])"
   ]
  },
  {
   "cell_type": "markdown",
   "metadata": {},
   "source": [
    "заполним пропуски в *pain* модой для соответствующего *outcome*"
   ]
  },
  {
   "cell_type": "code",
   "execution_count": 164,
   "metadata": {},
   "outputs": [],
   "source": [
    "df.pain.fillna(df.groupby(df['outcome']).pain.transform(lambda x: x.mode()[0]), inplace=True)"
   ]
  },
  {
   "cell_type": "code",
   "execution_count": null,
   "metadata": {},
   "outputs": [],
   "source": []
  },
  {
   "cell_type": "code",
   "execution_count": 165,
   "metadata": {},
   "outputs": [
    {
     "data": {
      "text/plain": [
       "surgery?                      0.0\n",
       "age                           0.0\n",
       "rectal_temperature            0.0\n",
       "pulse                         0.0\n",
       "respiratory_rate              0.0\n",
       "temperature_of_extremities    0.0\n",
       "pain                          0.0\n",
       "outcome                       0.0\n",
       "dtype: float64"
      ]
     },
     "execution_count": 165,
     "metadata": {},
     "output_type": "execute_result"
    }
   ],
   "source": [
    "# посмотрим теперь количество пропусков\n",
    "(df.isna().mean() * 100).round(2)"
   ]
  },
  {
   "cell_type": "markdown",
   "metadata": {},
   "source": [
    "Я считаю, что зополнять пропуски в данных нельзя, если только пометкой - ни данных, тем более если неизвестна причина появления пропусков. Любое заполнение пропусков может привести к искажению данных."
   ]
  }
 ],
 "metadata": {
  "kernelspec": {
   "display_name": "Python 3",
   "language": "python",
   "name": "python3"
  },
  "language_info": {
   "codemirror_mode": {
    "name": "ipython",
    "version": 3
   },
   "file_extension": ".py",
   "mimetype": "text/x-python",
   "name": "python",
   "nbconvert_exporter": "python",
   "pygments_lexer": "ipython3",
   "version": "3.11.2"
  }
 },
 "nbformat": 4,
 "nbformat_minor": 2
}
