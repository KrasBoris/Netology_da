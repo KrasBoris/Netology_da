{
 "cells": [
  {
   "cell_type": "markdown",
   "metadata": {
    "id": "YwwsvrnrGZv7"
   },
   "source": [
    " ## Домашнее задание Проверка гипотез"
   ]
  },
  {
   "cell_type": "code",
   "execution_count": 2,
   "metadata": {},
   "outputs": [],
   "source": [
    "import numpy as np\n",
    "import scipy.stats as st\n",
    "import pandas as pd\n",
    "import math\n",
    "import matplotlib.pyplot as plt\n",
    "import seaborn as sns"
   ]
  },
  {
   "cell_type": "markdown",
   "metadata": {
    "id": "FOsgMF44GZv8"
   },
   "source": [
    "<div class=\"alert alert-info\">\n",
    "<b>Задание № 1</b>\n",
    "    \n",
    "Разработайте функцию для проверки нормальности распределения выборки данных, используя шаблон ниже. Вы можете использовать один из известных Вам статистических тестов.\n",
    "</div>"
   ]
  },
  {
   "cell_type": "code",
   "execution_count": 3,
   "metadata": {
    "id": "M2tSYeV9GZv9"
   },
   "outputs": [],
   "source": [
    "def check_normality(data):\n",
    "    '''\n",
    "    Для проверки на нормальность распределения бвоспользуемся критерием Шапиро-Уилка\n",
    "    Н0: Данные распределены нормально\n",
    "    Н1: Данные распределены не нормально\n",
    "    '''\n",
    "    results = st.shapiro(data)\n",
    "    p_val = results[1]\n",
    "    print(f'р-значение: {p_val:.4f}')\n",
    "    if p_val < 0.05:\n",
    "        print(\"Отклоняем нулевую гипотезу >> Данные распределены не нормально\")\n",
    "    else:\n",
    "        print(\"Не отклоняем нулевую гипотезу >> Данные распределены нормально\")"
   ]
  },
  {
   "cell_type": "markdown",
   "metadata": {
    "id": "AseiCYEmGZv-"
   },
   "source": [
    "<div class=\"alert alert-info\">\n",
    "<b>Задание № 2</b>\n",
    "\n",
    "Даны две выборки роста мужчин и женщин.\n",
    "- Докажите, используя `t-Тест Стьдента`, что различие между выборками незначительно, если уровень значимости равен $\\alpha$ `= 0.001`.\n",
    "- Покажите различия визуально\n",
    "- Является ли результат полезным с практической точки зрения? Почему да или нет?\n",
    "</div>"
   ]
  },
  {
   "cell_type": "code",
   "execution_count": 4,
   "metadata": {
    "id": "7e39zGu1GZv-"
   },
   "outputs": [],
   "source": [
    "np.random.seed(42) #фиксация случайности\n",
    "\n",
    "mens  = st.norm.rvs(loc=171, scale=10, size=150000)  # Выборка мужчин со средним ростом 171\n",
    "womens = st.norm.rvs(loc=170, scale=10, size=150000)  # Выборка женщин со средним ростом 170"
   ]
  },
  {
   "cell_type": "markdown",
   "metadata": {},
   "source": [
    "Применим t-тест Стьюдента, чтобы проверить эти выборки  \n",
    "Н0: различий между выборками нет  \n",
    "Н1: Выборки различаются"
   ]
  },
  {
   "cell_type": "code",
   "execution_count": 35,
   "metadata": {},
   "outputs": [
    {
     "name": "stdout",
     "output_type": "stream",
     "text": [
      "Статистика = 28.31364, p = 4.01305e-176\n",
      "Отклоняем нулевую гипотезу, средние, вероятно, различаются\n"
     ]
    }
   ],
   "source": [
    "stat, p_val = st.ttest_ind(mens, womens)\n",
    "print(f\"Статистика = {stat:.5f}, p = {p_val:.5e}\")\n",
    "\n",
    "if p_val > 0.001:\n",
    "    print('Не отклоняем нулевую гипотезу, средние, вероятно, одинаковые')\n",
    "else:\n",
    "    print('Отклоняем нулевую гипотезу, средние, вероятно, различаются')"
   ]
  },
  {
   "cell_type": "markdown",
   "metadata": {},
   "source": [
    "Посмотрим на их распределение графически и сравним среднии этих наборов"
   ]
  },
  {
   "cell_type": "code",
   "execution_count": 6,
   "metadata": {},
   "outputs": [
    {
     "data": {
      "image/png": "[encoded data removed]",
      "text/plain": [
       "<Figure size 640x480 with 1 Axes>"
      ]
     },
     "metadata": {},
     "output_type": "display_data"
    }
   ],
   "source": [
    "plt.hist(mens, bins=150)\n",
    "plt.hist(womens, bins=150)\n",
    "plt.xlabel('Значение')\n",
    "plt.ylabel('Количество')\n",
    "plt.legend(['mens','womens'])\n",
    "plt.title('График распределения данных')\n",
    "plt.show()"
   ]
  },
  {
   "cell_type": "code",
   "execution_count": 56,
   "metadata": {},
   "outputs": [
    {
     "name": "stdout",
     "output_type": "stream",
     "text": [
      "Средний рост мужчин 171.01834593701406\n",
      "Средний рост женщин 169.98458452269782\n"
     ]
    }
   ],
   "source": [
    "print('Средний рост мужчин', np.mean(mens))\n",
    "print('Средний рост женщин', np.mean(womens))"
   ]
  },
  {
   "cell_type": "markdown",
   "metadata": {},
   "source": [
    "P-значение очень низкое, при этом средние и распределения слабо отличаются друг от друга, возможно данные слишком большие по размеру.\n",
    "Возьмем из кождой группы по 50 случайных значений и проверим, используя t-тест"
   ]
  },
  {
   "cell_type": "code",
   "execution_count": 116,
   "metadata": {},
   "outputs": [
    {
     "name": "stdout",
     "output_type": "stream",
     "text": [
      "Средний рост мужчин 169.96879903408478\n",
      "Средний рост женщин 168.46248381408898\n"
     ]
    }
   ],
   "source": [
    "choice_mens = np.random.choice(mens, 50)\n",
    "choice_womens = np.random.choice(womens, 50)\n",
    "print('Средний рост мужчин', np.mean(choice_mens))\n",
    "print('Средний рост женщин', np.mean(choice_womens))"
   ]
  },
  {
   "cell_type": "code",
   "execution_count": 117,
   "metadata": {},
   "outputs": [
    {
     "name": "stdout",
     "output_type": "stream",
     "text": [
      "Статистика = 0.76372, p = 4.46870e-01\n",
      "Не отклоняем нулевую гипотезу, средние, вероятно, одинаковые\n"
     ]
    }
   ],
   "source": [
    "stat, p_val = st.ttest_ind(choice_mens, choice_womens)\n",
    "print(f\"Статистика = {stat:.5f}, p = {p_val:.5e}\")\n",
    "\n",
    "if p_val > 0.001:\n",
    "    print('Не отклоняем нулевую гипотезу, средние, вероятно, одинаковые')\n",
    "else:\n",
    "    print('Отклоняем нулевую гипотезу, средние, вероятно, различаются')"
   ]
  },
  {
   "cell_type": "markdown",
   "metadata": {},
   "source": [
    "p-значение превышает уровень значимости и средние, вероятно, одинаковые"
   ]
  },
  {
   "cell_type": "code",
   "execution_count": null,
   "metadata": {},
   "outputs": [],
   "source": []
  },
  {
   "cell_type": "markdown",
   "metadata": {
    "id": "pJYWS2hsGZwA"
   },
   "source": [
    "<div class=\"alert alert-info\">\n",
    "<b>Задание № 3</b>\n",
    "\n",
    "Специалист по кадрам, работающий в технологической компании, интересуется сверхурочным временем разных команд. Чтобы выяснить, есть ли разница между сверхурочной работой команды разработчиков программного обеспечения и группы тестирования, она случайным образом выбрала 17 сотрудников в каждой из двух команд и записала их среднее сверхурочное время за неделю в пересчете на час. Данные ниже.\n",
    "\n",
    "В соответствии с этой информацией проведите проверку гипотезы, чтобы проверить, есть ли разница между переутомлением двух команд, используя уровень значимости 0,05. Прежде чем приступать к проверке гипотез, проверьте предположение нормальности.\n",
    "</div>"
   ]
  },
  {
   "cell_type": "code",
   "execution_count": 7,
   "metadata": {
    "id": "4z72q2FzGZwA"
   },
   "outputs": [],
   "source": [
    "test_team = [6.2, 7.1, 1.5, 2,3 , 2, 1.5, 6.1, 2.4, 2.3, 12.4, 1.8, 5.3, 3.1, 9.4, 2.3, 4.1]\n",
    "developer_team = [2.3, 2.1, 1.4, 2.0, 8.7, 2.2, 3.1, 4.2, 3.6, 2.5, 3.1, 6.2, 12.1, 3.9, 2.2, 1.2 ,3.4]"
   ]
  },
  {
   "cell_type": "code",
   "execution_count": 8,
   "metadata": {},
   "outputs": [
    {
     "name": "stdout",
     "output_type": "stream",
     "text": [
      "р-значение: 0.0046\n",
      "Отклоняем нулевую гипотезу >> Данные распределены не нормально\n"
     ]
    }
   ],
   "source": [
    "check_normality(test_team)"
   ]
  },
  {
   "cell_type": "code",
   "execution_count": 9,
   "metadata": {},
   "outputs": [
    {
     "name": "stdout",
     "output_type": "stream",
     "text": [
      "р-значение: 0.0005\n",
      "Отклоняем нулевую гипотезу >> Данные распределены не нормально\n"
     ]
    }
   ],
   "source": [
    "check_normality(developer_team)"
   ]
  },
  {
   "cell_type": "markdown",
   "metadata": {},
   "source": [
    "Тесты показывают, что данные распределены не нормально, визуализируем данные"
   ]
  },
  {
   "cell_type": "code",
   "execution_count": 10,
   "metadata": {},
   "outputs": [
    {
     "data": {
      "image/png": "[encoded data removed]",
      "text/plain": [
       "<Figure size 640x480 with 1 Axes>"
      ]
     },
     "metadata": {},
     "output_type": "display_data"
    }
   ],
   "source": [
    "sns.boxplot([test_team, developer_team])\n",
    "plt.xticks([0,1],['test_team', 'developer_team'])\n",
    "plt.title('Диаграмма размаха')\n",
    "plt.show()"
   ]
  },
  {
   "cell_type": "markdown",
   "metadata": {},
   "source": [
    "Распределения асимметричны, к тому же имеют выбросы, поэтому для проверки комманд используем непараметрический тест Манна-Уитни.\n",
    "\n",
    "Н0: распределения одинаковые  \n",
    "Н1: распределения различаются"
   ]
  },
  {
   "cell_type": "code",
   "execution_count": 11,
   "metadata": {},
   "outputs": [
    {
     "name": "stdout",
     "output_type": "stream",
     "text": [
      "Статистика = 151.50000, p = 0.82265\n",
      "Не отклоняем нулевую гипотезу, распределения, вероятно, одинаковые\n"
     ]
    }
   ],
   "source": [
    "stat, p = st.mannwhitneyu(test_team, developer_team)\n",
    "\n",
    "print(f\"Статистика = {stat:.5f}, p = {p:.5f}\")\n",
    "\n",
    "if p > 0.05:\n",
    "    print('Не отклоняем нулевую гипотезу, распределения, вероятно, одинаковые')\n",
    "else:\n",
    "    print('Отклоняем нулевую гипотезу, распределения, вероятно, различаются')"
   ]
  },
  {
   "cell_type": "markdown",
   "metadata": {},
   "source": [
    "Вероятно, нет разницы между сверхурочной работой команд разработки и тестирования"
   ]
  },
  {
   "cell_type": "markdown",
   "metadata": {
    "id": "tUZelZD5GZwB"
   },
   "source": [
    "<div class=\"alert alert-info\">\n",
    "<b>Задание № 4</b>\n",
    "\n",
    "Педиатр хочет увидеть влияние потребления смеси на среднемесячную прибавку в весе у новорожденных. По этой причине она собрала данные из трех разных групп. Первая группа – дети исключительно грудного вскармливания, вторая группа – дети, которых кормят только смесью, и последняя группа – это дети, находящиеся на искусственном вскармливании и на грудном вскармливании. Эти данные приведены ниже.\n",
    "\n",
    "В соответствии с этой информацией проведите проверку гипотезы, чтобы проверить, есть ли разница между среднемесячным приростом этих трех групп, используя уровень значимости 0,05. Если есть значительная разница, выполните дальнейший анализ, чтобы найти причину разницы.\n",
    "</div>"
   ]
  },
  {
   "cell_type": "code",
   "execution_count": 12,
   "metadata": {
    "id": "WYRMd6LnGZwB"
   },
   "outputs": [],
   "source": [
    "only_breast = [794.1, 716.9, 993. , 724.7, 760.9, 908.2, 659.3 , 690.8, \n",
    "               768.7, 717.3 , 630.7, 729.5, 714.1, 810.3, 583.5, 679.9, 865.1]\n",
    "only_formula = [898.8, 881.2, 940.2, 966.2, 957.5, 1061.7, 1046.2, 980.4, \n",
    "                895.6, 919.7, 1074.1, 952.5, 796.3, 859.6, 871.1 , 1047.5, \n",
    "                919.1 , 1160.5, 996.9]\n",
    "both = [976.4, 656.4, 861.2, 706.8, 718.5, 717.1, 759.8, 894.6, 867.6, \n",
    "        805.6, 765.4, 800.3, 789.9, 875.3, 740. , 799.4, 790.3, 795.2 , \n",
    "        823.6, 818.7, 926.8, 791.7, 948.3]"
   ]
  },
  {
   "cell_type": "markdown",
   "metadata": {},
   "source": [
    "Чтобы проверить разницу в этих трех группах используем однофакторный дисперсионный анализ, для этого выборки должны быть независимы, среднеквадратические отклонения - равны и распределены нормальны. Выборки - независимы, т.к. взяты разные группы детей, не связанные друг с другом. Проверим выборки на нормальность."
   ]
  },
  {
   "cell_type": "code",
   "execution_count": 14,
   "metadata": {},
   "outputs": [
    {
     "name": "stdout",
     "output_type": "stream",
     "text": [
      "р-значение: 0.4694\n",
      "Не отклоняем нулевую гипотезу >> Данные распределены нормально\n"
     ]
    }
   ],
   "source": [
    "# Распределение первой группы: \n",
    "check_normality(only_breast)"
   ]
  },
  {
   "cell_type": "code",
   "execution_count": 15,
   "metadata": {},
   "outputs": [
    {
     "name": "stdout",
     "output_type": "stream",
     "text": [
      "р-значение: 0.8879\n",
      "Не отклоняем нулевую гипотезу >> Данные распределены нормально\n"
     ]
    }
   ],
   "source": [
    "#Распределение второй группы\n",
    "check_normality(only_formula)"
   ]
  },
  {
   "cell_type": "code",
   "execution_count": 16,
   "metadata": {},
   "outputs": [
    {
     "name": "stdout",
     "output_type": "stream",
     "text": [
      "р-значение: 0.7973\n",
      "Не отклоняем нулевую гипотезу >> Данные распределены нормально\n"
     ]
    }
   ],
   "source": [
    "# Распределение третьей группы \n",
    "check_normality(both)"
   ]
  },
  {
   "cell_type": "markdown",
   "metadata": {},
   "source": [
    "Все три группы распределены нормально. Проверим их среднеквадратические отклонения."
   ]
  },
  {
   "cell_type": "code",
   "execution_count": 20,
   "metadata": {},
   "outputs": [
    {
     "name": "stdout",
     "output_type": "stream",
     "text": [
      "Первой группы: 98.96138598946065\n",
      "Второй группы: 86.78100242721023\n",
      "Третьей группы: 78.10417719478326\n"
     ]
    }
   ],
   "source": [
    "print('Первой группы:', np.std(only_breast))\n",
    "print('Второй группы:', np.std(only_formula))\n",
    "print('Третьей группы:', np.std(both))"
   ]
  },
  {
   "cell_type": "markdown",
   "metadata": {},
   "source": [
    "А вот среднеквадратические отклонения различаются, тогда применим тест Александера-Говерна, которы проверяет равенство средних нескольких выборок при неоднородной дисперсии, хотя при этом тесте потеряется мощность.  \n",
    "Определим гипотезы:  \n",
    "Н0 - средние всех выборок равны  \n",
    "Н1 - средняя хотя бы одной выборки отличается"
   ]
  },
  {
   "cell_type": "code",
   "execution_count": 32,
   "metadata": {},
   "outputs": [
    {
     "name": "stdout",
     "output_type": "stream",
     "text": [
      "Статистика = 20.11332, p = 4.28990e-05\n",
      "Отклоняем нулевую гипотезу, среднии, вероятно, различаются\n"
     ]
    }
   ],
   "source": [
    "results = st.alexandergovern(only_breast, only_formula, both)\n",
    "\n",
    "print(f\"Статистика = {results.statistic:.5f}, p = {results.pvalue:.5e}\")\n",
    "\n",
    "if results.pvalue > 0.05:\n",
    "    print('Не отклоняем нулевую гипотезу, среднии, вероятно, одинаковые')\n",
    "else:\n",
    "    print('Отклоняем нулевую гипотезу, среднии, вероятно, различаются')"
   ]
  },
  {
   "cell_type": "markdown",
   "metadata": {},
   "source": [
    "одна или все группы отличаются друг от друга, посмотрим на их средние"
   ]
  },
  {
   "cell_type": "code",
   "execution_count": 31,
   "metadata": {},
   "outputs": [
    {
     "name": "stdout",
     "output_type": "stream",
     "text": [
      "Первой группы: 749.8235294117648\n",
      "Второй группы: 959.2157894736845\n",
      "Третьей группы: 809.9521739130436\n"
     ]
    }
   ],
   "source": [
    "print('Среднее первой группы:', np.mean(only_breast))\n",
    "print('Среднее второй группы:', np.mean(only_formula))\n",
    "print('Среднее третьей группы:', np.mean(both))"
   ]
  },
  {
   "cell_type": "markdown",
   "metadata": {},
   "source": [
    "Чтобы сравнить попарно применим тест Тьюки к этим трем группам"
   ]
  },
  {
   "cell_type": "code",
   "execution_count": 34,
   "metadata": {},
   "outputs": [
    {
     "name": "stdout",
     "output_type": "stream",
     "text": [
      "Tukey's HSD Pairwise Group Comparisons (95.0% Confidence Interval)\n",
      "Comparison  Statistic  p-value  Lower CI  Upper CI\n",
      " (0 - 1)   -209.392     0.000  -281.434  -137.351\n",
      " (0 - 2)    -60.129     0.100  -129.149     8.891\n",
      " (1 - 0)    209.392     0.000   137.351   281.434\n",
      " (1 - 2)    149.264     0.000    82.365   216.162\n",
      " (2 - 0)     60.129     0.100    -8.891   129.149\n",
      " (2 - 1)   -149.264     0.000  -216.162   -82.365\n",
      "\n"
     ]
    }
   ],
   "source": [
    "print(st.tukey_hsd(only_breast, only_formula, both))"
   ]
  },
  {
   "cell_type": "markdown",
   "metadata": {},
   "source": [
    "P-значение при срвнении первой и третьей группы превышает уровень значимости, вероятно, средние этих групп не различаются, при этом при  сравнении первой и второй и третьей и второй групп р-значение ниже уровня знаяимости, значит в этих случаях можем отклонить Н0.  \n",
    "Таким образом, вероятно, изменения в весе детей только на искусственном вскармливании отличаются от весовых изменений детей на грудном и смешанном типе питания.ч"
   ]
  },
  {
   "cell_type": "code",
   "execution_count": null,
   "metadata": {},
   "outputs": [],
   "source": []
  }
 ],
 "metadata": {
  "colab": {
   "provenance": []
  },
  "kernelspec": {
   "display_name": "Python 3 (ipykernel)",
   "language": "python",
   "name": "python3"
  },
  "language_info": {
   "codemirror_mode": {
    "name": "ipython",
    "version": 3
   },
   "file_extension": ".py",
   "mimetype": "text/x-python",
   "name": "python",
   "nbconvert_exporter": "python",
   "pygments_lexer": "ipython3",
   "version": "3.11.2"
  },
  "toc": {
   "base_numbering": 1,
   "nav_menu": {},
   "number_sections": true,
   "sideBar": true,
   "skip_h1_title": false,
   "title_cell": "Table of Contents",
   "title_sidebar": "Contents",
   "toc_cell": false,
   "toc_position": {},
   "toc_section_display": true,
   "toc_window_display": false
  }
 },
 "nbformat": 4,
 "nbformat_minor": 1
}
